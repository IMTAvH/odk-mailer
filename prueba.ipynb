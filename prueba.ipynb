{
 "cells": [
  {
   "cell_type": "markdown",
   "metadata": {},
   "source": [
    "# Exportar registros y enviar correos de forma local\n",
    "\n",
    "Este cuaderno permite ejecutar paso a paso la exportación de los participantes y respuestas de formularios de ODK Central. También se puede filtrar a los participantes y enviarles un correo utilizando el mismo sistema que `export_local.py`."
   ],
   "id": "7d7d223be04a769a"
  },
  {
   "cell_type": "code",
   "metadata": {},
   "execution_count": null,
   "outputs": [],
   "source": [
    "import os\n",
    "import asyncio\n",
    "import requests\n",
    "import xmltodict\n",
    "from typing import Dict, Any, List, Callable\n\n",
    "from search_by_odk_api import get_odk_token\n",
    "from mailer import send_email"
   ],
   "id": "7f97ebf66d4d7b6a"
  },
  {
   "cell_type": "markdown",
   "metadata": {},
   "source": [
    "## Funciones de apoyo"
   ],
   "id": "1ecbe33b61609027"
  },
  {
   "cell_type": "code",
   "metadata": {},
   "execution_count": null,
   "outputs": [],
   "source": [
    "def _export_participants(base_url: str, token: str, project_id: int) -> List[Dict[str, Any]]:\n",
    "    \"\"\"Return all entities from the `participantes` dataset.\"\"\"\n",
    "    headers = {\"Authorization\": f'Bearer {token}'}\n",
    "    url = f'{base_url}/v1/projects/{project_id}/datasets/participantes/entities'\n",
    "    resp = requests.get(url, headers=headers)\n",
    "    resp.raise_for_status()\n",
    "    return resp.json()\n\n",
    "def _export_form_submissions(base_url: str, token: str, project_id: int, form_id: str) -> List[Dict[str, Any]]:\n",
    "    \"\"\"Return all submissions for a given form as parsed dicts.\"\"\"\n",
    "    headers = {\"Authorization\": f'Bearer {token}'}\n",
    "    list_url = f'{base_url}/v1/projects/{project_id}/forms/{form_id}/submissions'\n",
    "    resp = requests.get(list_url, headers=headers)\n",
    "    resp.raise_for_status()\n",
    "    submissions = []\n",
    "    for sub in resp.json():\n",
    "        xml_url = f'{list_url}/{sub[\"instanceId\"]}.xml'\n",
    "        xml_resp = requests.get(xml_url, headers=headers)\n",
    "        if xml_resp.status_code != 200:\n",
    "            continue\n",
    "        parsed = xmltodict.parse(xml_resp.text)\n",
    "        submissions.append(parsed.get('data', {}))\n",
    "    return submissions"
   ],
   "id": "e12327237e4fcb41"
  },
  {
   "cell_type": "markdown",
   "metadata": {},
   "source": [
    "## 1. Obtener token y exportar datos"
   ],
   "id": "8f058d3a9af6c64"
  },
  {
   "cell_type": "code",
   "metadata": {},
   "execution_count": null,
   "outputs": [],
   "source": [
    "base_url = os.getenv('ODK_BASE_URL', '').rstrip('/')\n",
    "project_id = int(os.getenv('ODK_PROJECT_ID', '2'))\n\n",
    "token = get_odk_token()\n",
    "if not token:\n",
    "    raise RuntimeError('No se pudo obtener token')\n\n",
    "participants = _export_participants(base_url, token, project_id)\n\n",
    "consent_form_id = os.getenv('ODK_FORM_CONSENT', 'Laura2-piloto-encuesta-ic')\n",
    "form_ids = [\n",
    "    os.getenv('ODK_FORM_PREREGISTRO'),\n",
    "    os.getenv('ODK_FORM_EN_P1'),\n",
    "    os.getenv('ODK_FORM_EN_P2'),\n",
    "    os.getenv('ODK_FORM_EN_P3'),\n",
    "    consent_form_id,\n",
    "]\n\n",
    "forms_data = {}\n",
    "for fid in form_ids:\n",
    "    if fid:\n",
    "        forms_data[fid] = _export_form_submissions(base_url, token, project_id, fid)\n\n",
    "print(f'✔️ Participantes: {len(participants)} registros')\n",
    "for fid in forms_data:\n",
    "    print(f'✔️ Form {fid}: {len(forms_data[fid])} submissions')"
   ],
   "id": "ded46276c9f0ef4e"
  },
  {
   "cell_type": "markdown",
   "metadata": {},
   "source": [
    "## 2. Definir función de filtrado"
   ],
   "id": "41f337127c0ee8ca"
  },
  {
   "cell_type": "code",
   "metadata": {},
   "execution_count": null,
   "outputs": [],
   "source": [
    "def filtrar_sin_consentimiento(data: Dict[str, Any], forms: Dict[str, List[Dict[str, Any]]]) -> bool:\n",
    "    pid = data.get('participante_id')\n",
    "    if not pid:\n",
    "        return False\n",
    "    consent_form_id = os.getenv('ODK_FORM_CONSENT', 'Laura2-piloto-encuesta-ic')\n",
    "    consent_subs = forms.get(consent_form_id, [])\n",
    "    for sub in consent_subs:\n",
    "        if sub.get('preamble', {}).get('part_id') == pid:\n",
    "            return False\n",
    "    return True"
   ],
   "id": "74aa74d663b4cc7f"
  },
  {
   "cell_type": "markdown",
   "metadata": {},
   "source": [
    "## 3. Enviar correos a los participantes filtrados"
   ],
   "id": "95923584c8254c19"
  },
  {
   "cell_type": "code",
   "metadata": {},
   "execution_count": null,
   "outputs": [],
   "source": [
    "DEFAULT_SUBJECT = 'Proyecto Laura - Notificacion'\n",
    "DEFAULT_MESSAGE = (\n",
    "    '<p>Hola,</p><p>Este es un mensaje generado automaticamente desde el entorno local del proyecto Laura.</p>'\n",
    ")\n",
    "\n",
    "filtered = []\n",
    "for entity in participants:\n",
    "    data = entity.get('currentVersion', {}).get('data', {})\n",
    "    if filtrar_sin_consentimiento(data, forms_data):\n",
    "        filtered.append(entity)\n",
    "        email = data.get('correo') or data.get('email')\n",
    "        if email:\n",
    "            await send_email(DEFAULT_SUBJECT, DEFAULT_MESSAGE, email)\n",
    "\n",
    "print(f'Correos enviados a {len(filtered)} participantes')"
   ],
   "id": "99399053da742880"
  }
 ],
 "metadata": {
  "kernelspec": {
   "display_name": "Python 3",
   "language": "python",
   "name": "python3"
  },
  "language_info": {
   "name": "python",
   "pygments_lexer": "ipython3"
  }
 },
 "nbformat": 4,
 "nbformat_minor": 5
}
