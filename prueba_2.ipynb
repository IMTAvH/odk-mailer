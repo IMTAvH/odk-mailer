{
 "cells": [
  {
   "cell_type": "code",
   "id": "initial_id",
   "metadata": {
    "collapsed": true,
    "ExecuteTime": {
     "end_time": "2025-07-07T15:34:22.139126Z",
     "start_time": "2025-07-07T15:34:21.741548Z"
    }
   },
   "source": [
    "import os\n",
    "import asyncio\n",
    "import requests\n",
    "import xmltodict\n",
    "from typing import Dict, Any, List, Callable\n",
    "\n",
    "from search_by_odk_api import get_odk_token\n",
    "from mailer import send_email"
   ],
   "outputs": [],
   "execution_count": 1
  },
  {
   "metadata": {
    "ExecuteTime": {
     "end_time": "2025-07-07T16:16:52.169361Z",
     "start_time": "2025-07-07T16:16:52.157534Z"
    }
   },
   "cell_type": "code",
   "source": [
    "def _export_participants(base_url: str, token: str, project_id: int) -> List[Dict[str, Any]]:\n",
    "    \"\"\"Return all entities from the `participantes` dataset.\"\"\"\n",
    "    headers = {\"Authorization\": f'Bearer {token}'}\n",
    "    url = f'{base_url}/v1/projects/{project_id}/datasets/participantes/entities?extended=true'\n",
    "    resp = requests.get(url, headers=headers)\n",
    "    resp.raise_for_status()\n",
    "    return resp.json()\n",
    "\n",
    "def _export_form_submissions(base_url: str, token: str, project_id: int, form_id: str) -> List[Dict[str, Any]]:\n",
    "    \"\"\"Return all submissions for a given form as parsed dicts.\"\"\"\n",
    "    headers = {\"Authorization\": f'Bearer {token}'}\n",
    "    list_url = f'{base_url}/v1/projects/{project_id}/forms/{form_id}/submissions'\n",
    "    resp = requests.get(list_url, headers=headers)\n",
    "    resp.raise_for_status()\n",
    "    submissions = []\n",
    "    for sub in resp.json():\n",
    "        xml_url = f'{list_url}/{sub[\"instanceId\"]}.xml'\n",
    "        xml_resp = requests.get(xml_url, headers=headers)\n",
    "        if xml_resp.status_code != 200:\n",
    "            continue\n",
    "        parsed = xmltodict.parse(xml_resp.text)\n",
    "        submissions.append(parsed.get('data', {}))\n",
    "    return submissions"
   ],
   "id": "1f68480e9644457c",
   "outputs": [],
   "execution_count": 18
  },
  {
   "metadata": {
    "ExecuteTime": {
     "end_time": "2025-07-07T16:17:22.279488Z",
     "start_time": "2025-07-07T16:17:20.527082Z"
    }
   },
   "cell_type": "code",
   "source": [
    "base_url = os.getenv('ODK_BASE_URL', '').rstrip('/')\n",
    "project_id = int(os.getenv('ODK_PROJECT_ID', '2'))\n",
    "\n",
    "token = get_odk_token()\n",
    "if not token:\n",
    "    raise RuntimeError('No se pudo obtener token')\n",
    "\n",
    "print(\"Hola Mundo\")\n",
    "print(f'Token: {token}')\n",
    "\n",
    "participants = _export_participants(base_url, token, project_id)\n",
    "print(f'Participants: {len(participants)}')\n",
    "# \n",
    "# form_ids = [\n",
    "#     os.getenv('ODK_FORM_PREREGISTRO'),\n",
    "#     os.getenv('ODK_FORM_CONSENT'),\n",
    "#     os.getenv('ODK_FORM_EN_P1')\n",
    "#     # os.getenv('ODK_FORM_EN_P2'),\n",
    "#     # os.getenv('ODK_FORM_EN_P3'),\n",
    "# ]\n",
    "# \n",
    "# forms_data = {}\n",
    "# for fid in form_ids:\n",
    "#     if fid:\n",
    "#         forms_data[fid] = _export_form_submissions(base_url, token, project_id, fid)\n",
    "# \n",
    "# print(f'✔️ Participantes: {len(participants)} registros')\n",
    "# for fid in forms_data:\n",
    "#     print(f'✔️ Form {fid}: {len(forms_data[fid])} submissions')"
   ],
   "id": "f702b0052e0b1fc6",
   "outputs": [
    {
     "name": "stdout",
     "output_type": "stream",
     "text": [
      "✅ Token generado.\n",
      "Hola Mundo\n",
      "Token: jG1fiNbNxLG$BsoVOwqVlfjIXpz2V4apTDbsnOJf5Kkcs$20jUMbfKPjXzI7mtes\n",
      "Participants: 119\n"
     ]
    }
   ],
   "execution_count": 20
  },
  {
   "metadata": {
    "ExecuteTime": {
     "end_time": "2025-07-07T15:40:04.704869Z",
     "start_time": "2025-07-07T15:40:04.695201Z"
    }
   },
   "cell_type": "code",
   "source": [
    "print(forms_data.keys())\n",
    "# print(forms_data.values())\n",
    "print(forms_data.get('Laura2-piloto-encuesta-preregistro')[0])\n",
    "print(forms_data.get('Laura2-piloto-encuesta-ic')[0])"
   ],
   "id": "f3cd9dd4186b7cf6",
   "outputs": [
    {
     "name": "stdout",
     "output_type": "stream",
     "text": [
      "dict_keys(['Laura2-piloto-encuesta-preregistro', 'Laura2-piloto-encuesta-ic', 'Laura2-piloto-encuesta-p1'])\n",
      "{'@xmlns:jr': 'http://openrosa.org/javarosa', '@xmlns:orx': 'http://openrosa.org/xforms', '@id': 'Laura2-piloto-encuesta-preregistro', '@version': '20250704120248', 'participantes': {'note_image': None, 'nota_subtitutlo': None, 'nota_intro': None, 'edad': '20', 'mobile_phone': '988787772', 'participante_id': 'e0ebcd5220a84592564f19c9086a86ea1acf0d4a0f7a28428c05f78afeaf70f0', 'participante_id_counts': '0', 'exists_id': 'no', 'exists_message': 'Gracias por registrate.', 'mobile_phone_confirm': '988787772', 'mobile_match': 'yes', 'region': 'callao', 'correo': 'Dcortezdiaz28@gmail.com', 'correo_confirm': 'Dcortezdiaz28@gmail.com', 'motivacion': 'Saber con más profundidad sobre el proyecto', 'nota_2': None, 'short_id': 'e0ebcd'}, 'meta': {'instanceID': 'uuid:71a4896c-c5d6-4395-b9cc-93a6aea74997', 'instanceName': 'e0ebcd', 'entity': {'@dataset': 'participantes', '@id': '7c4cf8d7-f5f8-4a51-b891-7a0a6940c0d3', '@create': 'true', 'label': '988787772'}}}\n",
      "{'@xmlns:jr': 'http://openrosa.org/javarosa', '@xmlns:orx': 'http://openrosa.org/xforms', '@id': 'Laura2-piloto-encuesta-ic', '@version': '20250628174727', 'preamble': {'entity_name': None, 'entity_phone': None, 'entity_email': None, 'entity_short_id': None, 'note_image': None, 'part_id': 'b72a09d682b460ea87720b1f2bd59afb9956707c07e041c57d9f7f59b861763c', 'note_consent': None}, 'consent': {'note_welcome': None, 'note_image': None, 'note_consent_0': None, 'Q0_read_consent': 'yes', 'Q0_accept_consent': 'yes', 'Q1_accept_consent': 'yes', 'Q2_accept_recontact': 'yes'}, 'meta': {'instanceID': 'uuid:82f3bbf7-956b-4090-bc44-2ef2227c1f70'}}\n"
     ]
    }
   ],
   "execution_count": 4
  },
  {
   "metadata": {
    "ExecuteTime": {
     "end_time": "2025-07-07T16:27:53.027265Z",
     "start_time": "2025-07-07T16:27:52.985791Z"
    }
   },
   "cell_type": "code",
   "source": [
    "from utils import construir_url_consent\n",
    "def correo_consentimiento(email, id_participant, short_id):\n",
    "    # email = parsed[\"data\"][\"participantes\"].get(\"correo\")\n",
    "    # id_participant = parsed[\"data\"][\"participantes\"].get(\"participante_id\")\n",
    "    # short_id = parsed[\"data\"][\"participantes\"].get(\"short_id\")\n",
    "    subject = \"Proyecto Laura - Consentimiento informado\"\n",
    "    url_id = construir_url_consent(id_participant)\n",
    "    message = f\"\"\"\n",
    "                <p>Hola, gracias por tu interés en participar en el proyecto Laura.</p>\n",
    "\n",
    "                <p>Ahora  que has completado el formulario de pre-registro, hemos generado un código de participante para tí</p>\n",
    "\n",
    "                <p>{short_id}</p>\n",
    "\n",
    "                <p>Este código permitirá proteger tu identidad, ya que podrás utilizarlo para identificarte en futuras interacciones dentro del proyecto sin dar tu nombre o apellido.</p>\n",
    "\n",
    "                <p>Ahora continuemos con algo muy importante, el <strong>Consentimiento Informado</strong> <a href=\"https://drive.google.com/file/d/1rgvpfLpdQvESCBBQGlnZRyxP4wscF3X2/view?usp=sharing\"><strong>(leer aquí)</strong></a>, para tu mayor comodidad también hemos realizado un video que lo explica <a href=\"https://drive.google.com/file/d/1Z_jL6Zjr-295Sd5mI5xPt9Nd5UP_-COI/view?usp=drive_link\">(ver video aquí)</a>.</p>\n",
    "\n",
    "                <p>Ya estás decidida a participar?, entonces ahora completa el formulario de consentimiento informado <a href={url_id}>(completar aquí)</a>, luego recibirás un correo con los enlaces de la encuesta</p>\n",
    "\n",
    "                <p>Tu participación ayudará a que instituciones y tomadores de decisiones de todo el país conozcan los principales problemas de salud que aquejan a la mujer peruana.</p>\n",
    "\n",
    "\n",
    "                <p>Atentamente,<br>\n",
    "                Equipo del proyecto Laura</p>\n",
    "                <p><img src=\"https://drive.google.com/uc?export=view&id=109KJ3wBlPtuv5uc1QsM3igm61v6OO00O\" alt=\"Logo LAURA\" width=\"150\"/></p>\n",
    "            \"\"\"\n",
    "\n",
    "    return email, subject, message"
   ],
   "id": "5829f4a80c912a49",
   "outputs": [],
   "execution_count": 23
  },
  {
   "metadata": {
    "ExecuteTime": {
     "end_time": "2025-07-07T18:23:15.193835Z",
     "start_time": "2025-07-07T18:23:09.981856Z"
    }
   },
   "cell_type": "code",
   "source": [
    "from search_by_odk_api import buscar_datos_en_entidad_participantes\n",
    "from mailer import send_email\n",
    "for entity in participants:\n",
    "    if entity.get('currentVersion').get('label',{}) == '928811762':\n",
    "        data = buscar_datos_en_entidad_participantes(entity.get('currentVersion').get('label',{}))\n",
    "        print(data)\n",
    "        email = data['email']\n",
    "        id_participant = data['long_id']\n",
    "        short_id = data['short_id']\n",
    "        email, subject, message = correo_consentimiento(email, id_participant, short_id)\n",
    "        print(f\"✅ Enviando correo a {email}\")\n",
    "        await send_email(subject=subject, html_message=message, recipient=email)\n",
    "        print(f\"✅ Correo enviado a {email}\")\n",
    "        # print(entity, entity.get('currentVersion').get('label',{}))\n",
    "    # print(entity.get('currentVersion').get('label',{}))\n",
    "    # if entity.get('currentVersion').get('label') == '93047375':\n",
    "    # print(entity, entity.get('currentVersion').get('label'))\n",
    "    # data = entity.get('currentVersion', {})\n",
    "    # print(entity)"
   ],
   "id": "29bff2eebb176851",
   "outputs": [
    {
     "name": "stdout",
     "output_type": "stream",
     "text": [
      "✅ Token generado.\n",
      "✅ Posible entidad encontrada con label: 928811762 (UUID: 3b0757bf-c243-41ca-94f5-136c626cdf41)\n",
      "{'email': 'luceroillatopa7@gmail.com', 'phone': '928811762', 'consent': 'yes', 'long_id': '72fd0cb884a0870b21e7bc66de1bd57ab97aadf80d7979b096866b27891d4997', 'short_id': '72fd0c'}\n",
      "{'email': 'luceroillatopa7@gmail.com', 'phone': '928811762', 'consent': 'yes', 'long_id': '72fd0cb884a0870b21e7bc66de1bd57ab97aadf80d7979b096866b27891d4997', 'short_id': '72fd0c'}\n",
      "✅ Enviando correo a luceroillatopa7@gmail.com\n",
      "✅ Correo enviado a luceroillatopa7@gmail.com\n"
     ]
    }
   ],
   "execution_count": 26
  },
  {
   "metadata": {
    "ExecuteTime": {
     "end_time": "2025-07-04T04:34:02.375656Z",
     "start_time": "2025-07-04T04:34:02.354534Z"
    }
   },
   "cell_type": "code",
   "source": [
    "def filtrar_sin_consentimiento(data: Dict[str, Any], forms: Dict[str, List[Dict[str, Any]]]) -> bool:\n",
    "    phone = data.get('currentVersion').get('label')\n",
    "    print(f'Telefono: {phone}')\n",
    "    if not phone:\n",
    "        return False\n",
    "    consent_form_id = os.getenv('ODK_FORM_CONSENT', 'Laura2-piloto-encuesta-ic')\n",
    "    consent_subs = forms.get(consent_form_id, [])\n",
    "    for sub in consent_subs:\n",
    "        if sub.get('preamble', {}).get('entity_phone') == phone:\n",
    "            return False\n",
    "    return True"
   ],
   "id": "73dfa820844286bb",
   "outputs": [],
   "execution_count": 12
  },
  {
   "metadata": {
    "ExecuteTime": {
     "end_time": "2025-07-04T04:40:42.416110Z",
     "start_time": "2025-07-04T04:40:42.393057Z"
    }
   },
   "cell_type": "code",
   "source": [
    "filtered = []\n",
    "for entity in participants:\n",
    "    if filtrar_sin_consentimiento(entity, forms_data):\n",
    "        filtered.append(entity)\n",
    "# print(filtered)\n",
    "print(len(filtered))"
   ],
   "id": "487cc9bdb870b5f5",
   "outputs": [
    {
     "name": "stdout",
     "output_type": "stream",
     "text": [
      "Telefono: 925248146\n",
      "Telefono: 953459304\n",
      "Telefono: 996473920\n",
      "Telefono: 935231110\n",
      "Telefono: 936510292\n",
      "Telefono: 968840501\n",
      "Telefono: 926960649\n",
      "Telefono: 902200303\n",
      "Telefono: 969659778\n",
      "Telefono: 940397318\n",
      "Telefono: 981589813\n",
      "Telefono: 970336485\n",
      "Telefono: 912568430\n",
      "Telefono: 930473750\n",
      "Telefono: 934715515\n",
      "Telefono: 948061243\n",
      "Telefono: 995179389\n",
      "Telefono: 979192997\n",
      "Telefono: 958998097\n",
      "Telefono: 902121965\n",
      "Telefono: 942146269\n",
      "Telefono: 992190761\n",
      "Telefono: 954791776\n",
      "Telefono: 956620907\n",
      "Telefono: 992089137\n",
      "Telefono: 922028518\n",
      "Telefono: 928811762\n",
      "Telefono: 987245131\n",
      "Telefono: 916318475\n",
      "Telefono: 935061039\n",
      "Telefono: 910483910\n",
      "Telefono: 920525235\n",
      "Telefono: 989914160\n",
      "Telefono: 901780361\n",
      "Telefono: 991362755\n",
      "Telefono: 991838251\n",
      "Telefono: 942434945\n",
      "Telefono: 982567520\n",
      "Telefono: 992025191\n",
      "Telefono: 927518740\n",
      "Telefono: 983438137\n",
      "Telefono: 973422366\n",
      "Telefono: 965641547\n",
      "Telefono: 902111049\n",
      "Telefono: 946013286\n",
      "Telefono: 903132690\n",
      "Telefono: 962927230\n",
      "Telefono: 931859882\n",
      "Telefono: 910384969\n",
      "Telefono: 998879958\n",
      "Telefono: 906455838\n",
      "Telefono: 967559093\n",
      "Telefono: 912148253\n",
      "Telefono: 985130412\n",
      "Telefono: 958175388\n",
      "Telefono: 984385016\n",
      "Telefono: 976338158\n",
      "Telefono: 984813340\n",
      "Telefono: 935295036\n",
      "Telefono: 964261577\n",
      "Telefono: 970599359\n",
      "Telefono: 904505623\n",
      "Telefono: 967394339\n",
      "Telefono: 929979405\n",
      "Telefono: 981549508\n",
      "Telefono: 958463240\n",
      "Telefono: 921417184\n",
      "Telefono: 923333200\n",
      "Telefono: 931978355\n",
      "Telefono: 934504049\n",
      "Telefono: 964161807\n",
      "Telefono: 910382004\n",
      "Telefono: 923183882\n",
      "Telefono: 960466701\n",
      "Telefono: 953700289\n",
      "Telefono: 933027034\n",
      "Telefono: 916506942\n",
      "Telefono: 947069405\n",
      "Telefono: 961463455\n",
      "Telefono: 906628823\n",
      "Telefono: 912426438\n",
      "Telefono: 944556553\n",
      "Telefono: 967024037\n",
      "Telefono: 903515712\n",
      "Telefono: 914385305\n",
      "Telefono: 933760668\n",
      "Telefono: 916225510\n",
      "Telefono: 910514293\n",
      "Telefono: 918688890\n",
      "Telefono: 937369253\n",
      "Telefono: 974651764\n",
      "Telefono: 916697638\n",
      "Telefono: 977918317\n",
      "Telefono: 933523929\n",
      "Telefono: 910047313\n",
      "Telefono: 991613676\n",
      "Telefono: 998347448\n",
      "Telefono: 955220217\n",
      "Telefono: 949987283\n",
      "Telefono: 923555073\n",
      "Telefono: 955541854\n",
      "Telefono: 934788000\n",
      "Telefono: 946136948\n",
      "Telefono: 924177517\n",
      "Telefono: 994040870\n",
      "Telefono: 920595961\n",
      "Telefono: 937734037\n",
      "Telefono: 977312191\n",
      "Telefono: 980338929\n",
      "Telefono: 966769143\n",
      "Telefono: 976375579\n",
      "Telefono: 901803881\n",
      "Telefono: 963684855\n",
      "Telefono: 907301435\n",
      "Telefono: 980882524\n",
      "Telefono: 903231370\n",
      "Telefono: 918290950\n",
      "Telefono: 927214318\n",
      "35\n"
     ]
    }
   ],
   "execution_count": 15
  },
  {
   "metadata": {
    "ExecuteTime": {
     "end_time": "2025-07-04T04:43:07.448367Z",
     "start_time": "2025-07-04T04:43:07.438668Z"
    }
   },
   "cell_type": "code",
   "source": [
    "for i in filtered:\n",
    "    print(i.get('currentVersion').get('label'), i.get('createdAt'))"
   ],
   "id": "c45c3b81a72c5b0f",
   "outputs": [
    {
     "name": "stdout",
     "output_type": "stream",
     "text": [
      "925248146 2025-07-04T03:22:43.418Z\n",
      "953459304 2025-07-02T23:40:57.444Z\n",
      "969659778 2025-06-26T17:59:21.964Z\n",
      "981589813 2025-06-26T01:29:46.822Z\n",
      "930473750 2025-06-24T22:17:49.024Z\n",
      "942146269 2025-06-22T18:13:59.973Z\n",
      "992190761 2025-06-22T17:08:19.491Z\n",
      "992089137 2025-06-21T23:46:51.167Z\n",
      "916318475 2025-06-21T01:02:38.496Z\n",
      "935061039 2025-06-21T00:23:58.723Z\n",
      "910483910 2025-06-20T23:49:11.568Z\n",
      "920525235 2025-06-20T23:49:11.524Z\n",
      "989914160 2025-06-20T23:49:11.502Z\n",
      "901780361 2025-06-20T23:49:11.414Z\n",
      "991838251 2025-06-20T23:49:11.355Z\n",
      "942434945 2025-06-19T03:13:20.296Z\n",
      "982567520 2025-06-18T02:39:38.674Z\n",
      "992025191 2025-06-17T04:29:51.817Z\n",
      "927518740 2025-06-16T19:29:04.197Z\n",
      "983438137 2025-06-16T17:54:24.676Z\n",
      "902111049 2025-06-15T03:19:26.148Z\n",
      "931859882 2025-06-13T23:51:25.224Z\n",
      "958175388 2025-06-12T19:32:18.659Z\n",
      "976338158 2025-06-12T02:19:37.288Z\n",
      "935295036 2025-06-12T01:31:23.029Z\n",
      "904505623 2025-06-11T11:49:12.253Z\n",
      "921417184 2025-06-10T18:50:12.859Z\n",
      "923183882 2025-06-09T18:21:09.919Z\n",
      "953700289 2025-06-09T00:10:31.595Z\n",
      "947069405 2025-06-08T22:36:43.623Z\n",
      "974651764 2025-06-07T19:02:22.778Z\n",
      "998347448 2025-06-06T22:10:46.930Z\n",
      "955220217 2025-06-06T16:30:29.274Z\n",
      "923555073 2025-06-06T15:03:34.157Z\n",
      "901803881 2025-06-05T18:58:48.375Z\n"
     ]
    }
   ],
   "execution_count": 16
  },
  {
   "metadata": {
    "ExecuteTime": {
     "end_time": "2025-07-06T23:42:47.514707Z",
     "start_time": "2025-07-06T23:42:47.495874Z"
    }
   },
   "cell_type": "code",
   "source": [
    "print(forms_data.get('Laura2-piloto-encuesta-ic')[0])\n",
    "print(forms_data.get('Laura2-piloto-encuesta-p1')[0])"
   ],
   "id": "e288cb7dab172074",
   "outputs": [
    {
     "name": "stdout",
     "output_type": "stream",
     "text": [
      "{'@xmlns:jr': 'http://openrosa.org/javarosa', '@xmlns:orx': 'http://openrosa.org/xforms', '@id': 'Laura2-piloto-encuesta-ic', '@version': '20250628174727', 'preamble': {'entity_name': None, 'entity_phone': None, 'entity_email': None, 'entity_short_id': None, 'note_image': None, 'part_id': 'b72a09d682b460ea87720b1f2bd59afb9956707c07e041c57d9f7f59b861763c', 'note_consent': None}, 'consent': {'note_welcome': None, 'note_image': None, 'note_consent_0': None, 'Q0_read_consent': 'yes', 'Q0_accept_consent': 'yes', 'Q1_accept_consent': 'yes', 'Q2_accept_recontact': 'yes'}, 'meta': {'instanceID': 'uuid:7d7b9d3e-479b-4a6c-b3bc-ca3cb45c31e7'}}\n",
      "{'@xmlns:jr': 'http://openrosa.org/javarosa', '@xmlns:orx': 'http://openrosa.org/xforms', '@id': 'Laura2-piloto-encuesta-p1', '@version': '20250628233628', 'preamble': {'entity_name': 'ed737023-fbc3-444b-85de-06d1433376f0', 'entity_phone': '926960649', 'entity_email': 'giulianaponce26@gmail.com', 'entity_short_id': '43ee63', 'note_image': None, 'part_id_2': '43ee633a5160e0bfa65d01599244a234221f68b0409d83c14aaa9774a2dde6b7', 'note_consent_1': None, 'complete_p1': 'yes'}, 'introduction': {'note_consent_2': None, 'note_consent_3': None, 'note_consent_4': None}, 'general_data': {'Q1.3_age': '31', 'Q1.4_height': '167', 'Q1.5_weigth': '68'}, 'sociodemographic': {'note_scdm': None, 'Q2.1-birth_place': 'lima', 'Q2.2-present_place': 'lima', 'Q2.3-present_place_type': 'downtown', 'Q2.4-nationality_mother': 'peruvian_place', 'Q2.4.1-nationality_mother_peru_dept': 'tumbes', 'Q2.5-nationality_father': 'peruvian_place', 'Q2.5.1-nationality_father_peru_dept': 'lima', 'Q2.6-ethnic_identity': 'mixed', 'Q2.7-education_level': 'university', 'Q2.7.1-education_level_completed': 'no', 'Q2.7.1-university_highest_degree': 'bachelor', 'Q2.8-work_sector': 'health_services_and_institutions', 'Q2.9-working_hours': 'during_the_day', 'Q2.10-note': None, 'Q2.10-job_conditions': None, 'Q2.10.1-other_persons': 'rarely', 'Q2.10.2-chemicals': '3_times_a_week_at_least', 'Q2.10.3-plants_outdoors': 'weekly', 'Q2.10.3-plants_indoors': 'rarely', 'Q2.11-pace_of_work': 'half_time studio', 'Q2.11.1-half_time': '50', 'Q2.12-contact_animals_work_home': 'no', 'Q2.13-live_alone_with_others': 'other_people', 'Q2.13.1-other_people': 'son/Daughter partner', 'Q2.13.2-other_people_number': '3', 'Q2.14-family_income': 'Between_S/7000_but_less_than_S/12000', 'Q2.15-relationship_status': 'permanent_partner', 'Q2.15.1-gender_partner': 'man', 'Q2.16-has_children': 'yes', 'Q2.16.1-type_children': 'biological_children', 'Q2.16.1.1-biological_children_type': 'caesarean', 'Q2.16.1.1.1-number_birth_Caesarean': '1'}, 'diet': {'note-diet_1': None, 'note_diet_2': None, 'Q3.1-probiotics_consumption': 'yes', 'probiotics_consumption_which': {'note_probiotics': None, 'Q3.1.1-frequency': None, 'Q3.1.1.1-yogurt': 'monthly', 'Q3.1.1.2-kombucha': None, 'Q3.1.1.3-tocosh': None, 'Q3.1.1.4-chicha_jora': None, 'Q3.1.1.5-chicha_jora': None, 'Q3.1.1.6-chucrut': None, 'Q3.1.1.7-kimchi': None, 'Q3.1.1.8-kefir': None}, 'Q3.1.1.1.1-brand_yoghurt': 'artesanal danlac', 'Q3.1.1.1.2-yoghurt_last_month': 'yes', 'food_consumption': {'note_food_consumption': None, 'Q3.2-food_consumption_frequency': None, 'Q3.2.1-dayri_products': 'weekly', 'Q3.2.2-fermented_food': 'weekly', 'Q3.2.3-animal_by_products': 'more_than_3_times_a_week', 'Q3.2.4-fruits': 'weekly', 'Q3.2.5-vegetables': 'weekly', 'Q3.2.6-fish': 'weekly', 'Q3.2.7-sugary_drinks': 'rarely', 'Q3.2.8-sugar_free_sweet_drinks': 'never', 'Q3.2.9-femented_drinks': 'never', 'Q3.2.10-seeds': 'never', 'Q3.2.11-coffee_chocolate_sweets': 'more_than_3_times_a_week', 'Q3.2.12-alcohol': 'never', 'Q3.2.13-red_meats': 'weekly', 'Q3.2.14-chicken_meat': 'weekly', 'Q3.2.15-rice': 'weekly', 'Q3.2.16-potato': 'weekly', 'Q3.2.17-oats': 'weekly', 'Q3.2.18-quinoa': 'weekly', 'Q3.2.19-yuca': 'never', 'Q3.2.20-nunts': 'rarely'}, 'Q3.3-add_sugar': 'yes_always', 'Q3.3.1-teaspoons_sugar': 'from_3_to_more', 'Q3.4-vitamins_supplements': 'yes_sometimes', 'Q3.4.1-vitamins_supplements_which': 'B_Complex'}, 'personal_hygiene': {'note-personal_hygiene_1': None, 'note-personal_hygiene_2': None, 'Q4.1-wash_vulva': 'yes', 'Q4.1.1-wash_vulva_how': 'water_intimate_soap', 'Q4.1.2-wash_vulva_frecuency': 'everyday', 'Q4.2-vaginal_douching': 'no', 'Q4.3-urinating_defecating_product_use': 'yes', 'urinating_defecating_product': {'note_urinating_defecating': None, 'Q4.3.1-urinating_defecating_product': None, 'Q4.3.1.1-urinating_product': 'toilet_paper', 'Q4.3.1.2-defecating_product': 'wet_wipes wash_with_water'}, 'Q4.4-clean_after_urinating': 'front_to_back', 'Q4.5-clean_after_deposition': 'front_to_back', 'Q4.6-pubic_waxing_frecuency': 'during_mestruation', 'Q4.7-underwear_material': 'cotton lace', 'Q4.8-change_underwear': 'every_day'}, 'general_health': {'note-general_health': None, 'Q5.1-born_by_mode': 'natural_birth', 'Q5.2-blood_type': 'O+', 'Q5.3-general_health_status': 'good', 'Q5.4-surgical_operation': 'no', 'Q5.5-cardiovascular_diseases': 'no', 'Q5.6-diabetes': 'no', 'Q5.7-anaemia': 'never', 'Q5.8-medical_conditions': 'no', 'Q5.9-allergic_related_conditions': 'no', 'Q5.10-lactose_intolerant': 'no', 'Q5.11-gluten_allergy': 'no', 'Q5.12-antibiotic_treatment': 'dont_remember', 'Q5.13-dental_visit': 'no', 'Q5.14-bleeding_gums': 'yes', 'Q5.15-caries': 'yes', 'Q5.16-smoke': 'ex_smoker', 'Q5.16.1-smoke_frequency': 'few_per_month', 'Q5.16.2-smoking_time': 'less_than_ten', 'Q5.16.3-smoking_age_start': '18', 'Q5.16.4-smoking_quit_time': 'at_least_1year', 'Q5.16.5-smoking_quit_reason': 'health give_example passive_exposure_to_others', 'Q5.17-smoke_passive_30d': 'yes', 'Q5.18-smoke_passive_7d': 'yes', 'Q5.19-vaping': 'never_vaping', 'Q5.20-drugs': 'never_consumer', 'Q5.21-drugs_from_plants': 'never_consumer', 'Q5.22-sleep_hours_night_week': '6h_7h', 'Q5.23-sleep_hours_night_weekend': '9h_or_more', 'Q5.24-physical_activity': 'yes_once_a_week_or_less', 'Q5.24.1-physical_activity_which': 'running at_home care_domestic_work'}, 'meta': {'instanceID': 'uuid:05849ac3-2a03-49a2-a4e8-0dd804977447'}}\n"
     ]
    }
   ],
   "execution_count": 4
  },
  {
   "metadata": {
    "ExecuteTime": {
     "end_time": "2025-07-06T23:42:52.774749Z",
     "start_time": "2025-07-06T23:42:52.759272Z"
    }
   },
   "cell_type": "code",
   "source": [
    "def filtrar_sin_en(data: Dict[str, Any], forms: Dict[str, List[Dict[str, Any]]]) -> bool:\n",
    "    entity_id = data.get('preamble').get('entity_name')\n",
    "    \n",
    "    # print(f'ID Entidad: {entity_id}')\n",
    "    if not entity_id:\n",
    "        return False\n",
    "    en_form_id = 'Laura2-piloto-encuesta-p1'\n",
    "    en_subs = forms.get(en_form_id, [])\n",
    "    for sub in en_subs:\n",
    "        if sub.get('preamble', {}).get('entity_name') == entity_id:\n",
    "            # print(f'ID Entidad: {entity_id}')\n",
    "            return False\n",
    "    return True"
   ],
   "id": "ec429fbd6d03d870",
   "outputs": [],
   "execution_count": 5
  },
  {
   "metadata": {
    "ExecuteTime": {
     "end_time": "2025-07-06T23:42:56.220774Z",
     "start_time": "2025-07-06T23:42:56.213327Z"
    }
   },
   "cell_type": "code",
   "source": [
    "filtered = []\n",
    "consent_subs = forms_data.get('Laura2-piloto-encuesta-ic')\n",
    "for subs in consent_subs:\n",
    "    if filtrar_sin_en(subs, forms_data):\n",
    "        filtered.append(subs)\n",
    "# print(filtered)\n",
    "print(len(filtered))"
   ],
   "id": "34257a86547b618c",
   "outputs": [
    {
     "name": "stdout",
     "output_type": "stream",
     "text": [
      "29\n"
     ]
    }
   ],
   "execution_count": 6
  },
  {
   "metadata": {
    "ExecuteTime": {
     "end_time": "2025-07-06T23:43:48.989417Z",
     "start_time": "2025-07-06T23:43:48.983200Z"
    }
   },
   "cell_type": "code",
   "source": "print(filtered[0])",
   "id": "cf2162aa577b2d14",
   "outputs": [
    {
     "name": "stdout",
     "output_type": "stream",
     "text": [
      "{'@xmlns:jr': 'http://openrosa.org/javarosa', '@xmlns:orx': 'http://openrosa.org/xforms', '@id': 'Laura2-piloto-encuesta-ic', '@version': '20250628174727', 'preamble': {'entity_name': 'a56b141b-84fa-4cfa-ad88-1a89d3cebb59', 'entity_phone': '980338929', 'entity_email': 'jhakeline.30.01.02@gmail.com', 'entity_short_id': '6722bf', 'note_image': None, 'part_id': '6722bf66bf70390e4907e4c2776f489a9e8c9b89ffeaa8e9dc351515c89aa379', 'note_consent': None}, 'consent': {'note_welcome': None, 'note_image': None, 'note_consent_0': None, 'Q0_read_consent': 'yes', 'Q0_accept_consent': 'yes', 'Q1_accept_consent': 'yes', 'Q2_accept_recontact': 'yes'}, 'meta': {'instanceID': 'uuid:7f0f38d3-5c98-4d04-9f2d-3c151837e236'}}\n"
     ]
    }
   ],
   "execution_count": 7
  },
  {
   "metadata": {
    "ExecuteTime": {
     "end_time": "2025-07-07T00:10:56.943375Z",
     "start_time": "2025-07-07T00:10:56.920324Z"
    }
   },
   "cell_type": "code",
   "source": [
    "def correo_encuesta_nac(participant_id, parsed):\n",
    "    # email = buscar_correo_en_submissions(participant_id)\n",
    "    # edad = buscar_edad_en_submissions(participant_id)\n",
    "    email = parsed[\"preamble\"].get(\"entity_email\")\n",
    "    short_id = parsed[\"preamble\"].get(\"entity_id\")\n",
    "    # phone = parsed[\"data\"][\"preamble\"].get(\"entity_phone\")\n",
    "    # datos = buscar_datos_en_entidad_participantes(phone)\n",
    "    # short_id = datos.get(\"short_id\")\n",
    "    url_p1 = construir_url_part1(participant_id)\n",
    "    url_p2 = construir_url_part2(participant_id)\n",
    "    url_p3 = construir_url_part3(participant_id)\n",
    "    # print(\"🔎 participant_id:\", participant_id)\n",
    "    subject = f\"¡Gracias por completar el Consentimiento Informado del proyecto Laura!\"\n",
    "    message = f\"\"\"\n",
    "                    <p>Hola {short_id},</p>\n",
    "\n",
    "                    <p>Hemos recibido tu consentimiento informado para participar en este estudio. 🎉</p>\n",
    "\n",
    "                    <p>Ya podemos empezar con la <strong>Encuesta Nacional</strong>, la que hemos dividido en 3 bloques.</p>\n",
    "\n",
    "                    <p><strong>¡Importante!</strong>👀 Una vez que hayas iniciado cada bloque, el sistema solo guarda las respuestas cuando lo hayas terminado y <strong>enviado</strong>, por eso te pedimos que destines un momento del día para completarlo. Si sales antes de completarlo podrías perder lo que has avanzado.</p>\n",
    "\n",
    "\n",
    "                    <li>\n",
    "                        Formulario 1 - Datos Generales: <a href={url_p1}>Acceder</a> - Llena tus respuestas y presiona <strong>enviar</strong>. Ahora continúa con el bloque 2.\n",
    "                    </li>\n",
    "                    <li>\n",
    "                        Formulario 2 - Salud Reproductiva y Menstrual: <a href={url_p2}>Acceder</a> - Llena tus respuestas y presiona <strong>enviar</strong>. Ahora continúa con el bloque 3.\n",
    "                    </li>\n",
    "                    <li>\n",
    "                        Formulario 3 - Salud Mental: <a href={url_p3}>Acceder</a> - Llena tus respuestas y presiona <strong>enviar</strong>, ya terminaste!\n",
    "                    </li>\n",
    "\n",
    "                    <p>Muchas gracias por tu participación en el proyecto <strong>Laura</strong>. 🫶</p>\n",
    "\n",
    "                    <p>Atentamente,<br>\n",
    "                    Equipo del proyecto Laura</p>\n",
    "\n",
    "                    <p><img src=\"https://drive.google.com/uc?export=view&id=109KJ3wBlPtuv5uc1QsM3igm61v6OO00O\" alt=\"Logo LAURA\" width=\"150\"/></p>\n",
    "                \"\"\"\n",
    "    return email, subject, message\n",
    "\n",
    "def construir_url_part1(valor_id):\n",
    "\n",
    "    # Prueba\n",
    "    # https://odkcentral.upch.edu.pe/-/single/oJaqbizarAl2a5ITzH2YsX2gjzETtZc?st=Ai6eTLM1bVT0MnYHivkTxXejfKiJLISTiexXD6hZF9rLr39ilDt6PS$n0zV4VbAG\n",
    "\n",
    "    # https://odkcentral.upch.edu.pe/-/single/guiLDqa7lfyyWCBhv9k2AWvqqMuPni6?st=Zm78egptTVNqykyl2UY57k8RCh5n9l6YBilieqsg2Z0jtGuXrg2OcY$IPTwARukQ\n",
    "    formulario = {\n",
    "        \"form_id\": \"guiLDqa7lfyyWCBhv9k2AWvqqMuPni6\",\n",
    "        \"token\": \"Zm78egptTVNqykyl2UY57k8RCh5n9l6YBilieqsg2Z0jtGuXrg2OcY$IPTwARukQ\",\n",
    "        \"part_id\": \"d[/data/preamble/part_id_2]\"\n",
    "        # \"age\": \"d[/data/general_data/Q1.3_age]\"\n",
    "        }\n",
    "    return f\"https://odkcentral.upch.edu.pe/-/single/{formulario['form_id']}?st={formulario['token']}&{formulario['part_id']}={valor_id}\"\n",
    "\n",
    "def construir_url_part2(valor_id):\n",
    "\n",
    "    # Prueba\n",
    "    # https://odkcentral.upch.edu.pe/-/single/fgLy1rY5M1YOeycvuIxqMHsUNBYoZCX?st=l65vr7s7G80yoQAWHGnWXHOIWT!JeudSgB6CfxhOMIow4LK7rirRypW!mExW!0g2\n",
    "\n",
    "    # https://odkcentral.upch.edu.pe/-/single/xZI6VypZiTI71JQ1YlzKBDsqG6ahzKv?st=UZk8rikW3mRRn3Ic7UidcfvWb3$uNeK0oZkIvi0JGUGSRufhyv1FzVzCt7BbFUkW\n",
    "    formulario = {\n",
    "        \"form_id\": \"xZI6VypZiTI71JQ1YlzKBDsqG6ahzKv\",\n",
    "        \"token\": \"UZk8rikW3mRRn3Ic7UidcfvWb3$uNeK0oZkIvi0JGUGSRufhyv1FzVzCt7BbFUkW\",\n",
    "        \"part_id\": \"d[/data/preamble/part_id_3]\"\n",
    "        }\n",
    "    return f\"https://odkcentral.upch.edu.pe/-/single/{formulario['form_id']}?st={formulario['token']}&{formulario['part_id']}={valor_id}\"\n",
    "\n",
    "def construir_url_part3(valor_id):\n",
    "\n",
    "    # Prueba\n",
    "    # https://odkcentral.upch.edu.pe/-/single/vmngcom1ZaTITHFj5MHfJefN6Oevjk0?st=pNFemRmzNQmwZ8hYzdSo3ttz$jFNlIm9PKCcygRm9duzJOC6CJ3vIGvt1NI5dYm4\n",
    "\n",
    "    # https://odkcentral.upch.edu.pe/-/single/CvCLsSXXVpoL537Bati0fXXrFIcj8MJ?st=Gp6hXKGnARJC7f4X4ybzXHQYt2VGIh!FPiss8N$MKLrXzZ69oHWmv8segsPNCp5u\n",
    "    formulario = {\n",
    "        \"form_id\": \"CvCLsSXXVpoL537Bati0fXXrFIcj8MJ\",\n",
    "        \"token\": \"Gp6hXKGnARJC7f4X4ybzXHQYt2VGIh!FPiss8N$MKLrXzZ69oHWmv8segsPNCp5u\",\n",
    "        \"part_id\": \"d[/data/preamble/part_id_4]\"\n",
    "        }\n",
    "    return f\"https://odkcentral.upch.edu.pe/-/single/{formulario['form_id']}?st={formulario['token']}&{formulario['part_id']}={valor_id}\"\n"
   ],
   "id": "93a3630c16194641",
   "outputs": [],
   "execution_count": 10
  },
  {
   "metadata": {
    "ExecuteTime": {
     "end_time": "2025-07-07T00:18:55.918926Z",
     "start_time": "2025-07-07T00:18:55.896822Z"
    }
   },
   "cell_type": "code",
   "source": [
    "from mailer import send_email\n",
    "for i in filtered:\n",
    "    participant_id = i[\"preamble\"].get(\"part_id\")  # <-- Aquí está el valor que vino vía prellenado\n",
    "    consentimiento = i[\"consent\"].get(\"Q0_accept_consent\")\n",
    "    print(\"🔎 participant_id (desde part_id):\", participant_id)\n",
    "    if consentimiento == \"yes\":\n",
    "        email, subject, message = correo_encuesta_nac(participant_id, i)\n",
    "        print(email)\n",
    "            # if email:\n",
    "            #     print(f\"✅ Enviando correo a {email}\")\n",
    "            #     await send_email(subject=subject, html_message=message, recipient=email)\n",
    "            #     print(f\"✅ Correo enviado a {email}\")\n",
    "            # else:\n",
    "            #     print(f\"⚠️ No se encontró correo para ID: {participant_id}\")"
   ],
   "id": "ee6bfc782a61c832",
   "outputs": [
    {
     "name": "stdout",
     "output_type": "stream",
     "text": [
      "🔎 participant_id (desde part_id): 6722bf66bf70390e4907e4c2776f489a9e8c9b89ffeaa8e9dc351515c89aa379\n",
      "jhakeline.30.01.02@gmail.com\n",
      "🔎 participant_id (desde part_id): 9027f121d3c7d883caec8630f73b11d0e4fe19662874dc5078d79c105abda079\n",
      "None\n",
      "🔎 participant_id (desde part_id): c0cd3761fa1a5aaed7610d3b2220af819362b41d237d0d4f4a471f620263d6d3\n",
      "None\n",
      "🔎 participant_id (desde part_id): c0cd3761fa1a5aaed7610d3b2220af819362b41d237d0d4f4a471f620263d6d3\n",
      "None\n",
      "🔎 participant_id (desde part_id): 3d82b449aa511295f7c1e48e25d293628cef86607c2e6d224537f60b9001b1a1\n",
      "None\n",
      "🔎 participant_id (desde part_id): 4549fee0d32ffedd63c6184b2624e916344f2c8010e997584a382edccd25fd14\n",
      "None\n",
      "🔎 participant_id (desde part_id): 608f3883a91bce5d749869ba706f635e84e7825e7fab0a732e6fc512b433326e\n",
      "None\n",
      "🔎 participant_id (desde part_id): 6722bf66bf70390e4907e4c2776f489a9e8c9b89ffeaa8e9dc351515c89aa379\n",
      "None\n",
      "🔎 participant_id (desde part_id): e45ddd3ed04532a93c5c0d3fd6f42a1fa3b44d923219f88deaa7bc6df7ca7a6b\n",
      "None\n",
      "🔎 participant_id (desde part_id): 72fd0cb884a0870b21e7bc66de1bd57ab97aadf80d7979b096866b27891d4997\n",
      "None\n",
      "🔎 participant_id (desde part_id): 73c56802f919ee9c95b4bd86c16de801aea16eb8552ac1db2ea4cfd358779ab2\n",
      "None\n",
      "🔎 participant_id (desde part_id): 73c56802f919ee9c95b4bd86c16de801aea16eb8552ac1db2ea4cfd358779ab2\n",
      "None\n",
      "🔎 participant_id (desde part_id): 6722bf66bf70390e4907e4c2776f489a9e8c9b89ffeaa8e9dc351515c89aa379\n",
      "None\n",
      "🔎 participant_id (desde part_id): 2a395a53086c6a0533763904ac4158fa3fc3d4ceda50e7d106ec857581494c08\n",
      "None\n",
      "🔎 participant_id (desde part_id): 2a395a53086c6a0533763904ac4158fa3fc3d4ceda50e7d106ec857581494c08\n",
      "None\n",
      "🔎 participant_id (desde part_id): cd1b8316c94195e4d4864e2fcc9f9a91114468000f82ea25fe7f9f58e873867c\n",
      "None\n",
      "🔎 participant_id (desde part_id): 6722bf66bf70390e4907e4c2776f489a9e8c9b89ffeaa8e9dc351515c89aa379\n",
      "None\n",
      "🔎 participant_id (desde part_id): fbaaddc55115a51cba697f42bfafdf49ecd1c5935bc7d018e15f779b3e7c789e\n",
      "None\n",
      "🔎 participant_id (desde part_id): fbaaddc55115a51cba697f42bfafdf49ecd1c5935bc7d018e15f779b3e7c789e\n",
      "None\n",
      "🔎 participant_id (desde part_id): 404a3ceb69ef2bed7e78b8117a42e781c53ca0d96e6696ce5a547f62b9e794ce\n",
      "None\n",
      "🔎 participant_id (desde part_id): 20b81ef8a504c22b0cf266ba8e120ed839f9e06be5a1316df3ab4660e3b80321\n",
      "None\n",
      "🔎 participant_id (desde part_id): 20b81ef8a504c22b0cf266ba8e120ed839f9e06be5a1316df3ab4660e3b80321\n",
      "None\n",
      "🔎 participant_id (desde part_id): 20b81ef8a504c22b0cf266ba8e120ed839f9e06be5a1316df3ab4660e3b80321\n",
      "None\n",
      "🔎 participant_id (desde part_id): 20b81ef8a504c22b0cf266ba8e120ed839f9e06be5a1316df3ab4660e3b80321\n",
      "None\n",
      "🔎 participant_id (desde part_id): 20b81ef8a504c22b0cf266ba8e120ed839f9e06be5a1316df3ab4660e3b80321\n",
      "None\n",
      "🔎 participant_id (desde part_id): 5f5384d3f40a255067eddbf7234cdc797a893a0dea318305310a05c0a040a36a\n",
      "None\n",
      "🔎 participant_id (desde part_id): 640ebf6b64c4c78c960cfa9c36771cfa233ed24b2fd88f074b3479ab9af96f04\n",
      "None\n",
      "🔎 participant_id (desde part_id): 75d99e185f04c5ffaedf1cfd37b227731b5e5f5b8cda4a8cb8e787a898b8c3b6\n",
      "None\n",
      "🔎 participant_id (desde part_id): 50ee11a34dfaef81f3239e8f92d8278f3025c9571fbd3380f73904c9dff6c2a6\n",
      "None\n"
     ]
    }
   ],
   "execution_count": 12
  },
  {
   "metadata": {},
   "cell_type": "markdown",
   "source": "## 3. Enviar correos a los participantes filtrados",
   "id": "e84452875a4b3dee"
  },
  {
   "metadata": {},
   "cell_type": "code",
   "outputs": [],
   "execution_count": null,
   "source": [
    "# DEFAULT_SUBJECT = 'Proyecto Laura - Notificacion'\n",
    "# DEFAULT_MESSAGE = (\n",
    "#     '<p>Hola,</p><p>Este es un mensaje generado automaticamente desde el entorno local del proyecto Laura.</p>'\n",
    "# )\n",
    "# \n",
    "# for entity in participants:\n",
    "#     data = entity.get('currentVersion', {}).get('data', {})\n",
    "#     if filtrar_por_ejemplo(data):\n",
    "#         email = data.get('correo') or data.get('email')\n",
    "#         if email:\n",
    "#             await send_email(DEFAULT_SUBJECT, DEFAULT_MESSAGE, email)"
   ],
   "id": "e92840f5530fbdee"
  }
 ],
 "metadata": {
  "kernelspec": {
   "display_name": "Python 3",
   "language": "python",
   "name": "python3"
  },
  "language_info": {
   "codemirror_mode": {
    "name": "ipython",
    "version": 2
   },
   "file_extension": ".py",
   "mimetype": "text/x-python",
   "name": "python",
   "nbconvert_exporter": "python",
   "pygments_lexer": "ipython2",
   "version": "2.7.6"
  }
 },
 "nbformat": 4,
 "nbformat_minor": 5
}
